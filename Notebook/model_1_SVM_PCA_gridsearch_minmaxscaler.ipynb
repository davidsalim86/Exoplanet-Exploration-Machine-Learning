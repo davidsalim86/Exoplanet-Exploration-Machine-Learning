{
 "cells": [
  {
   "cell_type": "code",
   "execution_count": 22,
   "metadata": {},
   "outputs": [],
   "source": [
    "import pandas as pd\n",
    "import numpy as np\n",
    "import matplotlib.pyplot as plt\n",
    "import seaborn as sns"
   ]
  },
  {
   "cell_type": "markdown",
   "metadata": {},
   "source": [
    "# Read the CSV and Perform Basic Data Cleaning"
   ]
  },
  {
   "cell_type": "code",
   "execution_count": 2,
   "metadata": {},
   "outputs": [
    {
     "data": {
      "text/html": [
       "<div>\n",
       "<style scoped>\n",
       "    .dataframe tbody tr th:only-of-type {\n",
       "        vertical-align: middle;\n",
       "    }\n",
       "\n",
       "    .dataframe tbody tr th {\n",
       "        vertical-align: top;\n",
       "    }\n",
       "\n",
       "    .dataframe thead th {\n",
       "        text-align: right;\n",
       "    }\n",
       "</style>\n",
       "<table border=\"1\" class=\"dataframe\">\n",
       "  <thead>\n",
       "    <tr style=\"text-align: right;\">\n",
       "      <th></th>\n",
       "      <th>koi_disposition</th>\n",
       "      <th>koi_fpflag_nt</th>\n",
       "      <th>koi_fpflag_ss</th>\n",
       "      <th>koi_fpflag_co</th>\n",
       "      <th>koi_fpflag_ec</th>\n",
       "      <th>koi_period</th>\n",
       "      <th>koi_period_err1</th>\n",
       "      <th>koi_period_err2</th>\n",
       "      <th>koi_time0bk</th>\n",
       "      <th>koi_time0bk_err1</th>\n",
       "      <th>...</th>\n",
       "      <th>koi_steff_err2</th>\n",
       "      <th>koi_slogg</th>\n",
       "      <th>koi_slogg_err1</th>\n",
       "      <th>koi_slogg_err2</th>\n",
       "      <th>koi_srad</th>\n",
       "      <th>koi_srad_err1</th>\n",
       "      <th>koi_srad_err2</th>\n",
       "      <th>ra</th>\n",
       "      <th>dec</th>\n",
       "      <th>koi_kepmag</th>\n",
       "    </tr>\n",
       "  </thead>\n",
       "  <tbody>\n",
       "    <tr>\n",
       "      <th>0</th>\n",
       "      <td>CONFIRMED</td>\n",
       "      <td>0</td>\n",
       "      <td>0</td>\n",
       "      <td>0</td>\n",
       "      <td>0</td>\n",
       "      <td>54.418383</td>\n",
       "      <td>2.479000e-04</td>\n",
       "      <td>-2.479000e-04</td>\n",
       "      <td>162.513840</td>\n",
       "      <td>0.003520</td>\n",
       "      <td>...</td>\n",
       "      <td>-81</td>\n",
       "      <td>4.467</td>\n",
       "      <td>0.064</td>\n",
       "      <td>-0.096</td>\n",
       "      <td>0.927</td>\n",
       "      <td>0.105</td>\n",
       "      <td>-0.061</td>\n",
       "      <td>291.93423</td>\n",
       "      <td>48.141651</td>\n",
       "      <td>15.347</td>\n",
       "    </tr>\n",
       "    <tr>\n",
       "      <th>1</th>\n",
       "      <td>FALSE POSITIVE</td>\n",
       "      <td>0</td>\n",
       "      <td>1</td>\n",
       "      <td>0</td>\n",
       "      <td>0</td>\n",
       "      <td>19.899140</td>\n",
       "      <td>1.490000e-05</td>\n",
       "      <td>-1.490000e-05</td>\n",
       "      <td>175.850252</td>\n",
       "      <td>0.000581</td>\n",
       "      <td>...</td>\n",
       "      <td>-176</td>\n",
       "      <td>4.544</td>\n",
       "      <td>0.044</td>\n",
       "      <td>-0.176</td>\n",
       "      <td>0.868</td>\n",
       "      <td>0.233</td>\n",
       "      <td>-0.078</td>\n",
       "      <td>297.00482</td>\n",
       "      <td>48.134129</td>\n",
       "      <td>15.436</td>\n",
       "    </tr>\n",
       "    <tr>\n",
       "      <th>2</th>\n",
       "      <td>FALSE POSITIVE</td>\n",
       "      <td>0</td>\n",
       "      <td>1</td>\n",
       "      <td>0</td>\n",
       "      <td>0</td>\n",
       "      <td>1.736952</td>\n",
       "      <td>2.630000e-07</td>\n",
       "      <td>-2.630000e-07</td>\n",
       "      <td>170.307565</td>\n",
       "      <td>0.000115</td>\n",
       "      <td>...</td>\n",
       "      <td>-174</td>\n",
       "      <td>4.564</td>\n",
       "      <td>0.053</td>\n",
       "      <td>-0.168</td>\n",
       "      <td>0.791</td>\n",
       "      <td>0.201</td>\n",
       "      <td>-0.067</td>\n",
       "      <td>285.53461</td>\n",
       "      <td>48.285210</td>\n",
       "      <td>15.597</td>\n",
       "    </tr>\n",
       "    <tr>\n",
       "      <th>3</th>\n",
       "      <td>CONFIRMED</td>\n",
       "      <td>0</td>\n",
       "      <td>0</td>\n",
       "      <td>0</td>\n",
       "      <td>0</td>\n",
       "      <td>2.525592</td>\n",
       "      <td>3.760000e-06</td>\n",
       "      <td>-3.760000e-06</td>\n",
       "      <td>171.595550</td>\n",
       "      <td>0.001130</td>\n",
       "      <td>...</td>\n",
       "      <td>-211</td>\n",
       "      <td>4.438</td>\n",
       "      <td>0.070</td>\n",
       "      <td>-0.210</td>\n",
       "      <td>1.046</td>\n",
       "      <td>0.334</td>\n",
       "      <td>-0.133</td>\n",
       "      <td>288.75488</td>\n",
       "      <td>48.226200</td>\n",
       "      <td>15.509</td>\n",
       "    </tr>\n",
       "    <tr>\n",
       "      <th>4</th>\n",
       "      <td>CONFIRMED</td>\n",
       "      <td>0</td>\n",
       "      <td>0</td>\n",
       "      <td>0</td>\n",
       "      <td>0</td>\n",
       "      <td>4.134435</td>\n",
       "      <td>1.050000e-05</td>\n",
       "      <td>-1.050000e-05</td>\n",
       "      <td>172.979370</td>\n",
       "      <td>0.001900</td>\n",
       "      <td>...</td>\n",
       "      <td>-232</td>\n",
       "      <td>4.486</td>\n",
       "      <td>0.054</td>\n",
       "      <td>-0.229</td>\n",
       "      <td>0.972</td>\n",
       "      <td>0.315</td>\n",
       "      <td>-0.105</td>\n",
       "      <td>296.28613</td>\n",
       "      <td>48.224670</td>\n",
       "      <td>15.714</td>\n",
       "    </tr>\n",
       "  </tbody>\n",
       "</table>\n",
       "<p>5 rows × 41 columns</p>\n",
       "</div>"
      ],
      "text/plain": [
       "  koi_disposition  koi_fpflag_nt  koi_fpflag_ss  koi_fpflag_co  koi_fpflag_ec  \\\n",
       "0       CONFIRMED              0              0              0              0   \n",
       "1  FALSE POSITIVE              0              1              0              0   \n",
       "2  FALSE POSITIVE              0              1              0              0   \n",
       "3       CONFIRMED              0              0              0              0   \n",
       "4       CONFIRMED              0              0              0              0   \n",
       "\n",
       "   koi_period  koi_period_err1  koi_period_err2  koi_time0bk  \\\n",
       "0   54.418383     2.479000e-04    -2.479000e-04   162.513840   \n",
       "1   19.899140     1.490000e-05    -1.490000e-05   175.850252   \n",
       "2    1.736952     2.630000e-07    -2.630000e-07   170.307565   \n",
       "3    2.525592     3.760000e-06    -3.760000e-06   171.595550   \n",
       "4    4.134435     1.050000e-05    -1.050000e-05   172.979370   \n",
       "\n",
       "   koi_time0bk_err1  ...  koi_steff_err2  koi_slogg  koi_slogg_err1  \\\n",
       "0          0.003520  ...             -81      4.467           0.064   \n",
       "1          0.000581  ...            -176      4.544           0.044   \n",
       "2          0.000115  ...            -174      4.564           0.053   \n",
       "3          0.001130  ...            -211      4.438           0.070   \n",
       "4          0.001900  ...            -232      4.486           0.054   \n",
       "\n",
       "   koi_slogg_err2  koi_srad  koi_srad_err1  koi_srad_err2         ra  \\\n",
       "0          -0.096     0.927          0.105         -0.061  291.93423   \n",
       "1          -0.176     0.868          0.233         -0.078  297.00482   \n",
       "2          -0.168     0.791          0.201         -0.067  285.53461   \n",
       "3          -0.210     1.046          0.334         -0.133  288.75488   \n",
       "4          -0.229     0.972          0.315         -0.105  296.28613   \n",
       "\n",
       "         dec  koi_kepmag  \n",
       "0  48.141651      15.347  \n",
       "1  48.134129      15.436  \n",
       "2  48.285210      15.597  \n",
       "3  48.226200      15.509  \n",
       "4  48.224670      15.714  \n",
       "\n",
       "[5 rows x 41 columns]"
      ]
     },
     "execution_count": 2,
     "metadata": {},
     "output_type": "execute_result"
    }
   ],
   "source": [
    "df = pd.read_csv(\"exoplanet_data.csv\")\n",
    "df.head()"
   ]
  },
  {
   "cell_type": "markdown",
   "metadata": {},
   "source": [
    "# Select your features (columns)"
   ]
  },
  {
   "cell_type": "code",
   "execution_count": 3,
   "metadata": {},
   "outputs": [],
   "source": [
    "# Set features. This will also be used as your x values.\n",
    "selected_features = df.drop(columns=[\"koi_disposition\"])\n",
    "# Drop the null columns where all values are null\n",
    "selected_features = selected_features.dropna(axis='columns', how='all')\n",
    "# Drop the null rows\n",
    "selected_features = selected_features.dropna()"
   ]
  },
  {
   "cell_type": "markdown",
   "metadata": {},
   "source": [
    "# Create a Train Test Split\n",
    "\n",
    "Use `koi_disposition` for the y values"
   ]
  },
  {
   "cell_type": "code",
   "execution_count": 4,
   "metadata": {},
   "outputs": [],
   "source": [
    "from sklearn.model_selection import train_test_split\n",
    "\n",
    "X = pd.get_dummies(selected_features)\n",
    "y = df[\"koi_disposition\"].values.reshape(-1,1)\n",
    "X_train, X_test, y_train, y_test = train_test_split(X, y, random_state=42)"
   ]
  },
  {
   "cell_type": "markdown",
   "metadata": {},
   "source": [
    "# Pre-processing\n",
    "\n",
    "Scale the data using the MinMaxScaler and perform some feature selection"
   ]
  },
  {
   "cell_type": "code",
   "execution_count": 5,
   "metadata": {},
   "outputs": [],
   "source": [
    "from sklearn.preprocessing import MinMaxScaler\n",
    "X_scaler = MinMaxScaler().fit(X_train)\n",
    "\n",
    "X_train_scaled = X_scaler.transform(X_train)\n",
    "X_test_scaled = X_scaler.transform(X_test)"
   ]
  },
  {
   "cell_type": "markdown",
   "metadata": {},
   "source": [
    "Select feature using PCA"
   ]
  },
  {
   "cell_type": "code",
   "execution_count": 6,
   "metadata": {},
   "outputs": [
    {
     "data": {
      "text/plain": [
       "PCA(n_components=40)"
      ]
     },
     "execution_count": 6,
     "metadata": {},
     "output_type": "execute_result"
    }
   ],
   "source": [
    "from sklearn.decomposition import PCA\n",
    "pca = PCA(n_components=40)\n",
    "pca.fit(X_train_scaled)"
   ]
  },
  {
   "cell_type": "code",
   "execution_count": 7,
   "metadata": {},
   "outputs": [
    {
     "data": {
      "text/plain": [
       "0.9061280563873516"
      ]
     },
     "execution_count": 7,
     "metadata": {},
     "output_type": "execute_result"
    }
   ],
   "source": [
    "sum(pca.explained_variance_ratio_[0:8])"
   ]
  },
  {
   "cell_type": "code",
   "execution_count": 8,
   "metadata": {},
   "outputs": [
    {
     "data": {
      "text/html": [
       "<div>\n",
       "<style scoped>\n",
       "    .dataframe tbody tr th:only-of-type {\n",
       "        vertical-align: middle;\n",
       "    }\n",
       "\n",
       "    .dataframe tbody tr th {\n",
       "        vertical-align: top;\n",
       "    }\n",
       "\n",
       "    .dataframe thead th {\n",
       "        text-align: right;\n",
       "    }\n",
       "</style>\n",
       "<table border=\"1\" class=\"dataframe\">\n",
       "  <thead>\n",
       "    <tr style=\"text-align: right;\">\n",
       "      <th></th>\n",
       "      <th>0</th>\n",
       "      <th>1</th>\n",
       "      <th>2</th>\n",
       "      <th>3</th>\n",
       "      <th>4</th>\n",
       "      <th>5</th>\n",
       "      <th>6</th>\n",
       "      <th>7</th>\n",
       "    </tr>\n",
       "  </thead>\n",
       "  <tbody>\n",
       "    <tr>\n",
       "      <th>0</th>\n",
       "      <td>-0.263102</td>\n",
       "      <td>-0.068232</td>\n",
       "      <td>-0.201933</td>\n",
       "      <td>-0.078637</td>\n",
       "      <td>-0.278249</td>\n",
       "      <td>-0.194584</td>\n",
       "      <td>-0.007799</td>\n",
       "      <td>-0.020546</td>\n",
       "    </tr>\n",
       "    <tr>\n",
       "      <th>1</th>\n",
       "      <td>0.710269</td>\n",
       "      <td>-0.307681</td>\n",
       "      <td>0.188668</td>\n",
       "      <td>0.896526</td>\n",
       "      <td>-0.241228</td>\n",
       "      <td>0.154469</td>\n",
       "      <td>0.056782</td>\n",
       "      <td>-0.097658</td>\n",
       "    </tr>\n",
       "    <tr>\n",
       "      <th>2</th>\n",
       "      <td>-0.467565</td>\n",
       "      <td>0.429338</td>\n",
       "      <td>0.636504</td>\n",
       "      <td>-0.109988</td>\n",
       "      <td>-0.251075</td>\n",
       "      <td>-0.186344</td>\n",
       "      <td>-0.183437</td>\n",
       "      <td>-0.086606</td>\n",
       "    </tr>\n",
       "    <tr>\n",
       "      <th>3</th>\n",
       "      <td>-0.289809</td>\n",
       "      <td>-0.082121</td>\n",
       "      <td>-0.244322</td>\n",
       "      <td>-0.017932</td>\n",
       "      <td>-0.224228</td>\n",
       "      <td>-0.023160</td>\n",
       "      <td>-0.001677</td>\n",
       "      <td>-0.163039</td>\n",
       "    </tr>\n",
       "    <tr>\n",
       "      <th>4</th>\n",
       "      <td>-0.305630</td>\n",
       "      <td>-0.100815</td>\n",
       "      <td>-0.251848</td>\n",
       "      <td>0.065897</td>\n",
       "      <td>0.275597</td>\n",
       "      <td>-0.015271</td>\n",
       "      <td>-0.042849</td>\n",
       "      <td>-0.060282</td>\n",
       "    </tr>\n",
       "  </tbody>\n",
       "</table>\n",
       "</div>"
      ],
      "text/plain": [
       "          0         1         2         3         4         5         6  \\\n",
       "0 -0.263102 -0.068232 -0.201933 -0.078637 -0.278249 -0.194584 -0.007799   \n",
       "1  0.710269 -0.307681  0.188668  0.896526 -0.241228  0.154469  0.056782   \n",
       "2 -0.467565  0.429338  0.636504 -0.109988 -0.251075 -0.186344 -0.183437   \n",
       "3 -0.289809 -0.082121 -0.244322 -0.017932 -0.224228 -0.023160 -0.001677   \n",
       "4 -0.305630 -0.100815 -0.251848  0.065897  0.275597 -0.015271 -0.042849   \n",
       "\n",
       "          7  \n",
       "0 -0.020546  \n",
       "1 -0.097658  \n",
       "2 -0.086606  \n",
       "3 -0.163039  \n",
       "4 -0.060282  "
      ]
     },
     "execution_count": 8,
     "metadata": {},
     "output_type": "execute_result"
    }
   ],
   "source": [
    "x_train_pca = pca.transform(X_train_scaled)\n",
    "x_train_pca = pd.DataFrame(x_train_pca).iloc[:,0:8]\n",
    "x_train_pca.head()"
   ]
  },
  {
   "cell_type": "code",
   "execution_count": 9,
   "metadata": {},
   "outputs": [
    {
     "data": {
      "text/html": [
       "<div>\n",
       "<style scoped>\n",
       "    .dataframe tbody tr th:only-of-type {\n",
       "        vertical-align: middle;\n",
       "    }\n",
       "\n",
       "    .dataframe tbody tr th {\n",
       "        vertical-align: top;\n",
       "    }\n",
       "\n",
       "    .dataframe thead th {\n",
       "        text-align: right;\n",
       "    }\n",
       "</style>\n",
       "<table border=\"1\" class=\"dataframe\">\n",
       "  <thead>\n",
       "    <tr style=\"text-align: right;\">\n",
       "      <th></th>\n",
       "      <th>0</th>\n",
       "      <th>1</th>\n",
       "      <th>2</th>\n",
       "      <th>3</th>\n",
       "      <th>4</th>\n",
       "      <th>5</th>\n",
       "      <th>6</th>\n",
       "      <th>7</th>\n",
       "    </tr>\n",
       "  </thead>\n",
       "  <tbody>\n",
       "    <tr>\n",
       "      <th>0</th>\n",
       "      <td>-0.519718</td>\n",
       "      <td>0.412618</td>\n",
       "      <td>0.562691</td>\n",
       "      <td>0.012535</td>\n",
       "      <td>0.362167</td>\n",
       "      <td>-0.076959</td>\n",
       "      <td>-0.069938</td>\n",
       "      <td>-0.303366</td>\n",
       "    </tr>\n",
       "    <tr>\n",
       "      <th>1</th>\n",
       "      <td>-0.290978</td>\n",
       "      <td>-0.070163</td>\n",
       "      <td>-0.212309</td>\n",
       "      <td>-0.022155</td>\n",
       "      <td>0.219063</td>\n",
       "      <td>-0.256214</td>\n",
       "      <td>0.115914</td>\n",
       "      <td>-0.085510</td>\n",
       "    </tr>\n",
       "    <tr>\n",
       "      <th>2</th>\n",
       "      <td>0.312648</td>\n",
       "      <td>0.389871</td>\n",
       "      <td>-0.435807</td>\n",
       "      <td>-0.413982</td>\n",
       "      <td>0.540804</td>\n",
       "      <td>0.272247</td>\n",
       "      <td>-0.010757</td>\n",
       "      <td>-0.104048</td>\n",
       "    </tr>\n",
       "    <tr>\n",
       "      <th>3</th>\n",
       "      <td>0.355260</td>\n",
       "      <td>-0.728538</td>\n",
       "      <td>0.363024</td>\n",
       "      <td>-0.030162</td>\n",
       "      <td>-0.369393</td>\n",
       "      <td>-0.047567</td>\n",
       "      <td>-0.086808</td>\n",
       "      <td>0.065639</td>\n",
       "    </tr>\n",
       "    <tr>\n",
       "      <th>4</th>\n",
       "      <td>1.393228</td>\n",
       "      <td>0.201086</td>\n",
       "      <td>0.075923</td>\n",
       "      <td>0.221277</td>\n",
       "      <td>-0.055393</td>\n",
       "      <td>-0.194947</td>\n",
       "      <td>0.034387</td>\n",
       "      <td>0.062402</td>\n",
       "    </tr>\n",
       "  </tbody>\n",
       "</table>\n",
       "</div>"
      ],
      "text/plain": [
       "          0         1         2         3         4         5         6  \\\n",
       "0 -0.519718  0.412618  0.562691  0.012535  0.362167 -0.076959 -0.069938   \n",
       "1 -0.290978 -0.070163 -0.212309 -0.022155  0.219063 -0.256214  0.115914   \n",
       "2  0.312648  0.389871 -0.435807 -0.413982  0.540804  0.272247 -0.010757   \n",
       "3  0.355260 -0.728538  0.363024 -0.030162 -0.369393 -0.047567 -0.086808   \n",
       "4  1.393228  0.201086  0.075923  0.221277 -0.055393 -0.194947  0.034387   \n",
       "\n",
       "          7  \n",
       "0 -0.303366  \n",
       "1 -0.085510  \n",
       "2 -0.104048  \n",
       "3  0.065639  \n",
       "4  0.062402  "
      ]
     },
     "execution_count": 9,
     "metadata": {},
     "output_type": "execute_result"
    }
   ],
   "source": [
    "x_test_pca = pca.transform(X_test_scaled)\n",
    "x_test_pca = pd.DataFrame(x_test_pca).iloc[:,0:8]\n",
    "x_test_pca.head()"
   ]
  },
  {
   "cell_type": "markdown",
   "metadata": {},
   "source": [
    "# Train the Model\n"
   ]
  },
  {
   "cell_type": "code",
   "execution_count": 10,
   "metadata": {},
   "outputs": [
    {
     "data": {
      "text/plain": [
       "SVC(kernel='linear')"
      ]
     },
     "execution_count": 10,
     "metadata": {},
     "output_type": "execute_result"
    }
   ],
   "source": [
    "from sklearn.svm import SVC\n",
    "\n",
    "SVM_pca = SVC(kernel='linear')\n",
    "SVM_pca.fit(x_train_pca, np.ravel(y_train,order='C'))"
   ]
  },
  {
   "cell_type": "markdown",
   "metadata": {},
   "source": [
    "# Performance Matrix"
   ]
  },
  {
   "cell_type": "code",
   "execution_count": 11,
   "metadata": {},
   "outputs": [
    {
     "name": "stdout",
     "output_type": "stream",
     "text": [
      "Training Data Score: 0.8045012397482357\n",
      "Test Data Score: 0.8037757437070938\n"
     ]
    }
   ],
   "source": [
    "print(f\"Training Data Score: {SVM_pca.score(x_train_pca, y_train)}\")\n",
    "print(f\"Test Data Score: {SVM_pca.score(x_test_pca, y_test)}\")\n"
   ]
  },
  {
   "cell_type": "code",
   "execution_count": 12,
   "metadata": {},
   "outputs": [
    {
     "name": "stdout",
     "output_type": "stream",
     "text": [
      "                precision    recall  f1-score   support\n",
      "\n",
      "     CANDIDATE       0.66      0.40      0.50       411\n",
      "     CONFIRMED       0.62      0.81      0.70       484\n",
      "FALSE POSITIVE       0.98      1.00      0.99       853\n",
      "\n",
      "      accuracy                           0.80      1748\n",
      "     macro avg       0.75      0.73      0.73      1748\n",
      "  weighted avg       0.80      0.80      0.79      1748\n",
      "\n"
     ]
    }
   ],
   "source": [
    "from sklearn.metrics import classification_report\n",
    "\n",
    "# Predicted outcomes\n",
    "predictions = SVM_pca.predict(x_test_pca)\n",
    "print(classification_report(y_test,predictions))"
   ]
  },
  {
   "cell_type": "markdown",
   "metadata": {},
   "source": [
    "# Hyperparameter Tuning\n",
    "\n",
    "Use `GridSearchCV` to tune the model's parameters"
   ]
  },
  {
   "cell_type": "code",
   "execution_count": 13,
   "metadata": {},
   "outputs": [],
   "source": [
    "# Create the GridSearchCV model\n",
    "from sklearn.model_selection import GridSearchCV\n",
    "param_grid = {'C': [1,5,10,50],\n",
    "            'gamma': [0.0001, 0.0005, 0.001, 0.005]}\n",
    "grid = GridSearchCV(SVM_pca, param_grid, verbose=3)"
   ]
  },
  {
   "cell_type": "code",
   "execution_count": 14,
   "metadata": {},
   "outputs": [
    {
     "name": "stdout",
     "output_type": "stream",
     "text": [
      "Fitting 5 folds for each of 16 candidates, totalling 80 fits\n",
      "[CV 1/5] END .................C=1, gamma=0.0001;, score=0.811 total time=   0.4s\n",
      "[CV 2/5] END .................C=1, gamma=0.0001;, score=0.820 total time=   0.4s\n",
      "[CV 3/5] END .................C=1, gamma=0.0001;, score=0.806 total time=   0.4s\n",
      "[CV 4/5] END .................C=1, gamma=0.0001;, score=0.800 total time=   0.4s\n",
      "[CV 5/5] END .................C=1, gamma=0.0001;, score=0.790 total time=   0.4s\n",
      "[CV 1/5] END .................C=1, gamma=0.0005;, score=0.811 total time=   0.4s\n",
      "[CV 2/5] END .................C=1, gamma=0.0005;, score=0.820 total time=   0.5s\n",
      "[CV 3/5] END .................C=1, gamma=0.0005;, score=0.806 total time=   0.4s\n",
      "[CV 4/5] END .................C=1, gamma=0.0005;, score=0.800 total time=   0.4s\n",
      "[CV 5/5] END .................C=1, gamma=0.0005;, score=0.790 total time=   0.4s\n",
      "[CV 1/5] END ..................C=1, gamma=0.001;, score=0.811 total time=   0.4s\n",
      "[CV 2/5] END ..................C=1, gamma=0.001;, score=0.820 total time=   0.4s\n",
      "[CV 3/5] END ..................C=1, gamma=0.001;, score=0.806 total time=   0.4s\n",
      "[CV 4/5] END ..................C=1, gamma=0.001;, score=0.800 total time=   0.4s\n",
      "[CV 5/5] END ..................C=1, gamma=0.001;, score=0.790 total time=   0.4s\n",
      "[CV 1/5] END ..................C=1, gamma=0.005;, score=0.811 total time=   0.4s\n",
      "[CV 2/5] END ..................C=1, gamma=0.005;, score=0.820 total time=   0.4s\n",
      "[CV 3/5] END ..................C=1, gamma=0.005;, score=0.806 total time=   0.4s\n",
      "[CV 4/5] END ..................C=1, gamma=0.005;, score=0.800 total time=   0.4s\n",
      "[CV 5/5] END ..................C=1, gamma=0.005;, score=0.790 total time=   0.4s\n",
      "[CV 1/5] END .................C=5, gamma=0.0001;, score=0.811 total time=   0.4s\n",
      "[CV 2/5] END .................C=5, gamma=0.0001;, score=0.817 total time=   0.5s\n",
      "[CV 3/5] END .................C=5, gamma=0.0001;, score=0.807 total time=   0.5s\n",
      "[CV 4/5] END .................C=5, gamma=0.0001;, score=0.796 total time=   0.5s\n",
      "[CV 5/5] END .................C=5, gamma=0.0001;, score=0.790 total time=   0.5s\n",
      "[CV 1/5] END .................C=5, gamma=0.0005;, score=0.811 total time=   0.5s\n",
      "[CV 2/5] END .................C=5, gamma=0.0005;, score=0.817 total time=   0.4s\n",
      "[CV 3/5] END .................C=5, gamma=0.0005;, score=0.807 total time=   0.7s\n",
      "[CV 4/5] END .................C=5, gamma=0.0005;, score=0.796 total time=   0.4s\n",
      "[CV 5/5] END .................C=5, gamma=0.0005;, score=0.790 total time=   0.5s\n",
      "[CV 1/5] END ..................C=5, gamma=0.001;, score=0.811 total time=   0.5s\n",
      "[CV 2/5] END ..................C=5, gamma=0.001;, score=0.817 total time=   0.5s\n",
      "[CV 3/5] END ..................C=5, gamma=0.001;, score=0.807 total time=   0.4s\n",
      "[CV 4/5] END ..................C=5, gamma=0.001;, score=0.796 total time=   0.4s\n",
      "[CV 5/5] END ..................C=5, gamma=0.001;, score=0.790 total time=   0.6s\n",
      "[CV 1/5] END ..................C=5, gamma=0.005;, score=0.811 total time=   0.6s\n",
      "[CV 2/5] END ..................C=5, gamma=0.005;, score=0.817 total time=   0.6s\n",
      "[CV 3/5] END ..................C=5, gamma=0.005;, score=0.807 total time=   0.6s\n",
      "[CV 4/5] END ..................C=5, gamma=0.005;, score=0.796 total time=   0.6s\n",
      "[CV 5/5] END ..................C=5, gamma=0.005;, score=0.790 total time=   0.5s\n",
      "[CV 1/5] END ................C=10, gamma=0.0001;, score=0.812 total time=   0.7s\n",
      "[CV 2/5] END ................C=10, gamma=0.0001;, score=0.813 total time=   0.6s\n",
      "[CV 3/5] END ................C=10, gamma=0.0001;, score=0.808 total time=   0.7s\n",
      "[CV 4/5] END ................C=10, gamma=0.0001;, score=0.797 total time=   0.6s\n",
      "[CV 5/5] END ................C=10, gamma=0.0001;, score=0.788 total time=   0.7s\n",
      "[CV 1/5] END ................C=10, gamma=0.0005;, score=0.812 total time=   0.8s\n",
      "[CV 2/5] END ................C=10, gamma=0.0005;, score=0.813 total time=   1.1s\n",
      "[CV 3/5] END ................C=10, gamma=0.0005;, score=0.808 total time=   0.7s\n",
      "[CV 4/5] END ................C=10, gamma=0.0005;, score=0.797 total time=   0.5s\n",
      "[CV 5/5] END ................C=10, gamma=0.0005;, score=0.788 total time=   0.6s\n",
      "[CV 1/5] END .................C=10, gamma=0.001;, score=0.812 total time=   0.7s\n",
      "[CV 2/5] END .................C=10, gamma=0.001;, score=0.813 total time=   0.6s\n",
      "[CV 3/5] END .................C=10, gamma=0.001;, score=0.808 total time=   0.6s\n",
      "[CV 4/5] END .................C=10, gamma=0.001;, score=0.797 total time=   0.5s\n",
      "[CV 5/5] END .................C=10, gamma=0.001;, score=0.788 total time=   0.6s\n",
      "[CV 1/5] END .................C=10, gamma=0.005;, score=0.812 total time=   0.7s\n",
      "[CV 2/5] END .................C=10, gamma=0.005;, score=0.813 total time=   0.7s\n",
      "[CV 3/5] END .................C=10, gamma=0.005;, score=0.808 total time=   0.6s\n",
      "[CV 4/5] END .................C=10, gamma=0.005;, score=0.797 total time=   0.5s\n",
      "[CV 5/5] END .................C=10, gamma=0.005;, score=0.788 total time=   0.6s\n",
      "[CV 1/5] END ................C=50, gamma=0.0001;, score=0.812 total time=   0.8s\n",
      "[CV 2/5] END ................C=50, gamma=0.0001;, score=0.820 total time=   0.8s\n",
      "[CV 3/5] END ................C=50, gamma=0.0001;, score=0.810 total time=   0.7s\n",
      "[CV 4/5] END ................C=50, gamma=0.0001;, score=0.797 total time=   0.7s\n",
      "[CV 5/5] END ................C=50, gamma=0.0001;, score=0.789 total time=   0.8s\n",
      "[CV 1/5] END ................C=50, gamma=0.0005;, score=0.812 total time=   0.7s\n",
      "[CV 2/5] END ................C=50, gamma=0.0005;, score=0.820 total time=   0.6s\n",
      "[CV 3/5] END ................C=50, gamma=0.0005;, score=0.810 total time=   0.7s\n",
      "[CV 4/5] END ................C=50, gamma=0.0005;, score=0.797 total time=   0.7s\n",
      "[CV 5/5] END ................C=50, gamma=0.0005;, score=0.789 total time=   0.7s\n",
      "[CV 1/5] END .................C=50, gamma=0.001;, score=0.812 total time=   0.9s\n",
      "[CV 2/5] END .................C=50, gamma=0.001;, score=0.820 total time=   0.9s\n",
      "[CV 3/5] END .................C=50, gamma=0.001;, score=0.810 total time=   0.9s\n",
      "[CV 4/5] END .................C=50, gamma=0.001;, score=0.797 total time=   0.9s\n",
      "[CV 5/5] END .................C=50, gamma=0.001;, score=0.789 total time=   0.9s\n",
      "[CV 1/5] END .................C=50, gamma=0.005;, score=0.812 total time=   0.8s\n",
      "[CV 2/5] END .................C=50, gamma=0.005;, score=0.820 total time=   0.8s\n",
      "[CV 3/5] END .................C=50, gamma=0.005;, score=0.810 total time=   0.8s\n",
      "[CV 4/5] END .................C=50, gamma=0.005;, score=0.797 total time=   0.9s\n",
      "[CV 5/5] END .................C=50, gamma=0.005;, score=0.789 total time=   0.9s\n"
     ]
    },
    {
     "data": {
      "text/plain": [
       "GridSearchCV(estimator=SVC(kernel='linear'),\n",
       "             param_grid={'C': [1, 5, 10, 50],\n",
       "                         'gamma': [0.0001, 0.0005, 0.001, 0.005]},\n",
       "             verbose=3)"
      ]
     },
     "execution_count": 14,
     "metadata": {},
     "output_type": "execute_result"
    }
   ],
   "source": [
    "# Train the model with GridSearch\n",
    "grid.fit(x_train_pca, np.ravel(y_train,order='C'))"
   ]
  },
  {
   "cell_type": "code",
   "execution_count": 15,
   "metadata": {},
   "outputs": [
    {
     "name": "stdout",
     "output_type": "stream",
     "text": [
      "{'C': 50, 'gamma': 0.0001}\n",
      "0.805640777476186\n"
     ]
    }
   ],
   "source": [
    "print(grid.best_params_)\n",
    "print(grid.best_score_)"
   ]
  },
  {
   "cell_type": "code",
   "execution_count": 16,
   "metadata": {},
   "outputs": [
    {
     "data": {
      "text/plain": [
       "SVC(C=50, gamma=0.0001, kernel='linear')"
      ]
     },
     "execution_count": 16,
     "metadata": {},
     "output_type": "execute_result"
    }
   ],
   "source": [
    "SVM_pca_gridsearch = SVC(kernel='linear',C=50,gamma=0.0001)\n",
    "SVM_pca_gridsearch.fit(x_train_pca, np.ravel(y_train,order='C'))"
   ]
  },
  {
   "cell_type": "markdown",
   "metadata": {},
   "source": [
    "# Performance Matrix"
   ]
  },
  {
   "cell_type": "code",
   "execution_count": 17,
   "metadata": {},
   "outputs": [
    {
     "name": "stdout",
     "output_type": "stream",
     "text": [
      "Training Data Score: 0.8058363532328819\n",
      "Testing Data Score: 0.8072082379862701\n"
     ]
    }
   ],
   "source": [
    "print(f\"Training Data Score: {SVM_pca_gridsearch.score(x_train_pca, y_train)}\")\n",
    "print(f\"Testing Data Score: {SVM_pca_gridsearch.score(x_test_pca, y_test)}\")"
   ]
  },
  {
   "cell_type": "code",
   "execution_count": 23,
   "metadata": {},
   "outputs": [
    {
     "name": "stdout",
     "output_type": "stream",
     "text": [
      "                precision    recall  f1-score      support\n",
      "CANDIDATE        0.660377  0.425791  0.517751   411.000000\n",
      "CONFIRMED        0.626016  0.795455  0.700637   484.000000\n",
      "FALSE POSITIVE   0.980415  0.997655  0.988960   853.000000\n",
      "accuracy         0.807208  0.807208  0.807208     0.807208\n",
      "macro avg        0.755603  0.739634  0.735783  1748.000000\n",
      "weighted avg     0.807037  0.807208  0.798333  1748.000000\n",
      "Stored 'report_SVM_minmax_df' (DataFrame)\n"
     ]
    },
    {
     "data": {
      "image/png": "[encoded data removed]",
      "text/plain": [
       "<Figure size 432x288 with 2 Axes>"
      ]
     },
     "metadata": {
      "needs_background": "light"
     },
     "output_type": "display_data"
    }
   ],
   "source": [
    "from sklearn.metrics import classification_report,confusion_matrix\n",
    "\n",
    "# Predicted outcomes\n",
    "predictions = SVM_pca_gridsearch.predict(x_test_pca)\n",
    "target = ['CANDIDATE','CONFIRMED','FALSE POSITIVE']\n",
    "\n",
    "ax= plt.subplot()\n",
    "cm = (confusion_matrix(y_test,predictions))\n",
    "sns.heatmap(cm, annot=True, ax = ax,cmap='Blues',fmt='g')\n",
    "\n",
    "# labels, title and ticks\n",
    "ax.set_title('SVM (minmax scale)')\n",
    "ax.xaxis.set_ticklabels(target)\n",
    "ax.yaxis.set_ticklabels(target)\n",
    "\n",
    "\n",
    "report_SVM_minmax = classification_report(y_test,predictions, output_dict=True)\n",
    "report_SVM_minmax_df = pd.DataFrame(report_SVM_minmax).transpose()\n",
    "print(report_SVM_minmax_df)\n",
    "%store report_SVM_minmax_df "
   ]
  },
  {
   "cell_type": "code",
   "execution_count": 19,
   "metadata": {},
   "outputs": [
    {
     "data": {
      "text/plain": [
       "['SVM_pca_gridsearch_minmaxscaler.sav']"
      ]
     },
     "execution_count": 19,
     "metadata": {},
     "output_type": "execute_result"
    }
   ],
   "source": [
    "# save your model by updating \"your_name\" with your name\n",
    "# and \"your_model\" with your model variable\n",
    "# be sure to turn this in to BCS\n",
    "# if joblib fails to import, try running the command to install in terminal/git-bash\n",
    "import joblib\n",
    "filename = 'SVM_pca_gridsearch_minmaxscaler.sav'\n",
    "joblib.dump(SVM_pca_gridsearch, filename)"
   ]
  }
 ],
 "metadata": {
  "kernelspec": {
   "display_name": "Python 3.6.13 ('PythonAdv2')",
   "language": "python",
   "name": "python3"
  },
  "language_info": {
   "codemirror_mode": {
    "name": "ipython",
    "version": 3
   },
   "file_extension": ".py",
   "mimetype": "text/x-python",
   "name": "python",
   "nbconvert_exporter": "python",
   "pygments_lexer": "ipython3",
   "version": "3.6.13"
  },
  "orig_nbformat": 4,
  "vscode": {
   "interpreter": {
    "hash": "936b1316dbb2a310ab1a1e05737c1da9bef71d5eedff621d143e0924a05f4e3b"
   }
  }
 },
 "nbformat": 4,
 "nbformat_minor": 2
}
