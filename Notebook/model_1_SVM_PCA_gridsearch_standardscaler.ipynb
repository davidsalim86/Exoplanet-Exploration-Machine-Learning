{
 "cells": [
  {
   "cell_type": "code",
   "execution_count": 21,
   "metadata": {},
   "outputs": [],
   "source": [
    "import pandas as pd\n",
    "import numpy as np\n",
    "import matplotlib.pyplot as plt\n",
    "import seaborn as sns"
   ]
  },
  {
   "cell_type": "markdown",
   "metadata": {},
   "source": [
    "# Read the CSV and Perform Basic Data Cleaning"
   ]
  },
  {
   "cell_type": "code",
   "execution_count": 2,
   "metadata": {},
   "outputs": [
    {
     "data": {
      "text/html": [
       "<div>\n",
       "<style scoped>\n",
       "    .dataframe tbody tr th:only-of-type {\n",
       "        vertical-align: middle;\n",
       "    }\n",
       "\n",
       "    .dataframe tbody tr th {\n",
       "        vertical-align: top;\n",
       "    }\n",
       "\n",
       "    .dataframe thead th {\n",
       "        text-align: right;\n",
       "    }\n",
       "</style>\n",
       "<table border=\"1\" class=\"dataframe\">\n",
       "  <thead>\n",
       "    <tr style=\"text-align: right;\">\n",
       "      <th></th>\n",
       "      <th>koi_disposition</th>\n",
       "      <th>koi_fpflag_nt</th>\n",
       "      <th>koi_fpflag_ss</th>\n",
       "      <th>koi_fpflag_co</th>\n",
       "      <th>koi_fpflag_ec</th>\n",
       "      <th>koi_period</th>\n",
       "      <th>koi_period_err1</th>\n",
       "      <th>koi_period_err2</th>\n",
       "      <th>koi_time0bk</th>\n",
       "      <th>koi_time0bk_err1</th>\n",
       "      <th>...</th>\n",
       "      <th>koi_steff_err2</th>\n",
       "      <th>koi_slogg</th>\n",
       "      <th>koi_slogg_err1</th>\n",
       "      <th>koi_slogg_err2</th>\n",
       "      <th>koi_srad</th>\n",
       "      <th>koi_srad_err1</th>\n",
       "      <th>koi_srad_err2</th>\n",
       "      <th>ra</th>\n",
       "      <th>dec</th>\n",
       "      <th>koi_kepmag</th>\n",
       "    </tr>\n",
       "  </thead>\n",
       "  <tbody>\n",
       "    <tr>\n",
       "      <th>0</th>\n",
       "      <td>CONFIRMED</td>\n",
       "      <td>0</td>\n",
       "      <td>0</td>\n",
       "      <td>0</td>\n",
       "      <td>0</td>\n",
       "      <td>54.418383</td>\n",
       "      <td>2.479000e-04</td>\n",
       "      <td>-2.479000e-04</td>\n",
       "      <td>162.513840</td>\n",
       "      <td>0.003520</td>\n",
       "      <td>...</td>\n",
       "      <td>-81</td>\n",
       "      <td>4.467</td>\n",
       "      <td>0.064</td>\n",
       "      <td>-0.096</td>\n",
       "      <td>0.927</td>\n",
       "      <td>0.105</td>\n",
       "      <td>-0.061</td>\n",
       "      <td>291.93423</td>\n",
       "      <td>48.141651</td>\n",
       "      <td>15.347</td>\n",
       "    </tr>\n",
       "    <tr>\n",
       "      <th>1</th>\n",
       "      <td>FALSE POSITIVE</td>\n",
       "      <td>0</td>\n",
       "      <td>1</td>\n",
       "      <td>0</td>\n",
       "      <td>0</td>\n",
       "      <td>19.899140</td>\n",
       "      <td>1.490000e-05</td>\n",
       "      <td>-1.490000e-05</td>\n",
       "      <td>175.850252</td>\n",
       "      <td>0.000581</td>\n",
       "      <td>...</td>\n",
       "      <td>-176</td>\n",
       "      <td>4.544</td>\n",
       "      <td>0.044</td>\n",
       "      <td>-0.176</td>\n",
       "      <td>0.868</td>\n",
       "      <td>0.233</td>\n",
       "      <td>-0.078</td>\n",
       "      <td>297.00482</td>\n",
       "      <td>48.134129</td>\n",
       "      <td>15.436</td>\n",
       "    </tr>\n",
       "    <tr>\n",
       "      <th>2</th>\n",
       "      <td>FALSE POSITIVE</td>\n",
       "      <td>0</td>\n",
       "      <td>1</td>\n",
       "      <td>0</td>\n",
       "      <td>0</td>\n",
       "      <td>1.736952</td>\n",
       "      <td>2.630000e-07</td>\n",
       "      <td>-2.630000e-07</td>\n",
       "      <td>170.307565</td>\n",
       "      <td>0.000115</td>\n",
       "      <td>...</td>\n",
       "      <td>-174</td>\n",
       "      <td>4.564</td>\n",
       "      <td>0.053</td>\n",
       "      <td>-0.168</td>\n",
       "      <td>0.791</td>\n",
       "      <td>0.201</td>\n",
       "      <td>-0.067</td>\n",
       "      <td>285.53461</td>\n",
       "      <td>48.285210</td>\n",
       "      <td>15.597</td>\n",
       "    </tr>\n",
       "    <tr>\n",
       "      <th>3</th>\n",
       "      <td>CONFIRMED</td>\n",
       "      <td>0</td>\n",
       "      <td>0</td>\n",
       "      <td>0</td>\n",
       "      <td>0</td>\n",
       "      <td>2.525592</td>\n",
       "      <td>3.760000e-06</td>\n",
       "      <td>-3.760000e-06</td>\n",
       "      <td>171.595550</td>\n",
       "      <td>0.001130</td>\n",
       "      <td>...</td>\n",
       "      <td>-211</td>\n",
       "      <td>4.438</td>\n",
       "      <td>0.070</td>\n",
       "      <td>-0.210</td>\n",
       "      <td>1.046</td>\n",
       "      <td>0.334</td>\n",
       "      <td>-0.133</td>\n",
       "      <td>288.75488</td>\n",
       "      <td>48.226200</td>\n",
       "      <td>15.509</td>\n",
       "    </tr>\n",
       "    <tr>\n",
       "      <th>4</th>\n",
       "      <td>CONFIRMED</td>\n",
       "      <td>0</td>\n",
       "      <td>0</td>\n",
       "      <td>0</td>\n",
       "      <td>0</td>\n",
       "      <td>4.134435</td>\n",
       "      <td>1.050000e-05</td>\n",
       "      <td>-1.050000e-05</td>\n",
       "      <td>172.979370</td>\n",
       "      <td>0.001900</td>\n",
       "      <td>...</td>\n",
       "      <td>-232</td>\n",
       "      <td>4.486</td>\n",
       "      <td>0.054</td>\n",
       "      <td>-0.229</td>\n",
       "      <td>0.972</td>\n",
       "      <td>0.315</td>\n",
       "      <td>-0.105</td>\n",
       "      <td>296.28613</td>\n",
       "      <td>48.224670</td>\n",
       "      <td>15.714</td>\n",
       "    </tr>\n",
       "  </tbody>\n",
       "</table>\n",
       "<p>5 rows × 41 columns</p>\n",
       "</div>"
      ],
      "text/plain": [
       "  koi_disposition  koi_fpflag_nt  koi_fpflag_ss  koi_fpflag_co  koi_fpflag_ec  \\\n",
       "0       CONFIRMED              0              0              0              0   \n",
       "1  FALSE POSITIVE              0              1              0              0   \n",
       "2  FALSE POSITIVE              0              1              0              0   \n",
       "3       CONFIRMED              0              0              0              0   \n",
       "4       CONFIRMED              0              0              0              0   \n",
       "\n",
       "   koi_period  koi_period_err1  koi_period_err2  koi_time0bk  \\\n",
       "0   54.418383     2.479000e-04    -2.479000e-04   162.513840   \n",
       "1   19.899140     1.490000e-05    -1.490000e-05   175.850252   \n",
       "2    1.736952     2.630000e-07    -2.630000e-07   170.307565   \n",
       "3    2.525592     3.760000e-06    -3.760000e-06   171.595550   \n",
       "4    4.134435     1.050000e-05    -1.050000e-05   172.979370   \n",
       "\n",
       "   koi_time0bk_err1  ...  koi_steff_err2  koi_slogg  koi_slogg_err1  \\\n",
       "0          0.003520  ...             -81      4.467           0.064   \n",
       "1          0.000581  ...            -176      4.544           0.044   \n",
       "2          0.000115  ...            -174      4.564           0.053   \n",
       "3          0.001130  ...            -211      4.438           0.070   \n",
       "4          0.001900  ...            -232      4.486           0.054   \n",
       "\n",
       "   koi_slogg_err2  koi_srad  koi_srad_err1  koi_srad_err2         ra  \\\n",
       "0          -0.096     0.927          0.105         -0.061  291.93423   \n",
       "1          -0.176     0.868          0.233         -0.078  297.00482   \n",
       "2          -0.168     0.791          0.201         -0.067  285.53461   \n",
       "3          -0.210     1.046          0.334         -0.133  288.75488   \n",
       "4          -0.229     0.972          0.315         -0.105  296.28613   \n",
       "\n",
       "         dec  koi_kepmag  \n",
       "0  48.141651      15.347  \n",
       "1  48.134129      15.436  \n",
       "2  48.285210      15.597  \n",
       "3  48.226200      15.509  \n",
       "4  48.224670      15.714  \n",
       "\n",
       "[5 rows x 41 columns]"
      ]
     },
     "execution_count": 2,
     "metadata": {},
     "output_type": "execute_result"
    }
   ],
   "source": [
    "df = pd.read_csv(\"exoplanet_data.csv\")\n",
    "df.head()"
   ]
  },
  {
   "cell_type": "markdown",
   "metadata": {},
   "source": [
    "# Select your features (columns)"
   ]
  },
  {
   "cell_type": "code",
   "execution_count": 3,
   "metadata": {},
   "outputs": [],
   "source": [
    "# Set features. This will also be used as your x values.\n",
    "selected_features = df.drop(columns=[\"koi_disposition\"])\n",
    "# Drop the null columns where all values are null\n",
    "selected_features = selected_features.dropna(axis='columns', how='all')\n",
    "# Drop the null rows\n",
    "selected_features = selected_features.dropna()"
   ]
  },
  {
   "cell_type": "markdown",
   "metadata": {},
   "source": [
    "# Create a Train Test Split\n",
    "\n",
    "Use `koi_disposition` for the y values"
   ]
  },
  {
   "cell_type": "code",
   "execution_count": 4,
   "metadata": {},
   "outputs": [],
   "source": [
    "from sklearn.model_selection import train_test_split\n",
    "\n",
    "X = pd.get_dummies(selected_features)\n",
    "y = df[\"koi_disposition\"].values.reshape(-1,1)\n",
    "X_train, X_test, y_train, y_test = train_test_split(X, y, random_state=42)"
   ]
  },
  {
   "cell_type": "markdown",
   "metadata": {},
   "source": [
    "# Pre-processing\n",
    "\n",
    "Scale the data using the MinMaxScaler and perform some feature selection"
   ]
  },
  {
   "cell_type": "code",
   "execution_count": 5,
   "metadata": {},
   "outputs": [],
   "source": [
    "from sklearn.preprocessing import StandardScaler\n",
    "X_scaler = StandardScaler().fit(X_train)\n",
    "\n",
    "X_train_scaled = X_scaler.transform(X_train)\n",
    "X_test_scaled = X_scaler.transform(X_test)"
   ]
  },
  {
   "cell_type": "markdown",
   "metadata": {},
   "source": [
    "Select feature using PCA"
   ]
  },
  {
   "cell_type": "code",
   "execution_count": 6,
   "metadata": {},
   "outputs": [
    {
     "data": {
      "text/plain": [
       "PCA(n_components=40)"
      ]
     },
     "execution_count": 6,
     "metadata": {},
     "output_type": "execute_result"
    }
   ],
   "source": [
    "from sklearn.decomposition import PCA\n",
    "pca = PCA(n_components=40)\n",
    "pca.fit(X_train_scaled)"
   ]
  },
  {
   "cell_type": "code",
   "execution_count": 7,
   "metadata": {},
   "outputs": [
    {
     "data": {
      "text/plain": [
       "0.8990810978413629"
      ]
     },
     "execution_count": 7,
     "metadata": {},
     "output_type": "execute_result"
    }
   ],
   "source": [
    "sum(pca.explained_variance_ratio_[0:20])"
   ]
  },
  {
   "cell_type": "code",
   "execution_count": 8,
   "metadata": {},
   "outputs": [
    {
     "data": {
      "text/html": [
       "<div>\n",
       "<style scoped>\n",
       "    .dataframe tbody tr th:only-of-type {\n",
       "        vertical-align: middle;\n",
       "    }\n",
       "\n",
       "    .dataframe tbody tr th {\n",
       "        vertical-align: top;\n",
       "    }\n",
       "\n",
       "    .dataframe thead th {\n",
       "        text-align: right;\n",
       "    }\n",
       "</style>\n",
       "<table border=\"1\" class=\"dataframe\">\n",
       "  <thead>\n",
       "    <tr style=\"text-align: right;\">\n",
       "      <th></th>\n",
       "      <th>0</th>\n",
       "      <th>1</th>\n",
       "      <th>2</th>\n",
       "      <th>3</th>\n",
       "      <th>4</th>\n",
       "      <th>5</th>\n",
       "      <th>6</th>\n",
       "      <th>7</th>\n",
       "      <th>8</th>\n",
       "      <th>9</th>\n",
       "      <th>10</th>\n",
       "      <th>11</th>\n",
       "      <th>12</th>\n",
       "      <th>13</th>\n",
       "      <th>14</th>\n",
       "      <th>15</th>\n",
       "      <th>16</th>\n",
       "      <th>17</th>\n",
       "      <th>18</th>\n",
       "      <th>19</th>\n",
       "    </tr>\n",
       "  </thead>\n",
       "  <tbody>\n",
       "    <tr>\n",
       "      <th>0</th>\n",
       "      <td>-0.477466</td>\n",
       "      <td>-0.113635</td>\n",
       "      <td>-0.132230</td>\n",
       "      <td>-0.177395</td>\n",
       "      <td>-0.390613</td>\n",
       "      <td>0.107461</td>\n",
       "      <td>-0.170853</td>\n",
       "      <td>0.260482</td>\n",
       "      <td>0.580255</td>\n",
       "      <td>0.087333</td>\n",
       "      <td>0.126106</td>\n",
       "      <td>0.161740</td>\n",
       "      <td>-1.100190</td>\n",
       "      <td>0.846609</td>\n",
       "      <td>-1.061766</td>\n",
       "      <td>0.013100</td>\n",
       "      <td>0.328598</td>\n",
       "      <td>-0.135798</td>\n",
       "      <td>0.087911</td>\n",
       "      <td>-0.031623</td>\n",
       "    </tr>\n",
       "    <tr>\n",
       "      <th>1</th>\n",
       "      <td>-1.115007</td>\n",
       "      <td>-0.104242</td>\n",
       "      <td>-0.002061</td>\n",
       "      <td>-0.744386</td>\n",
       "      <td>-0.901085</td>\n",
       "      <td>1.296570</td>\n",
       "      <td>0.791967</td>\n",
       "      <td>-0.892066</td>\n",
       "      <td>-0.328284</td>\n",
       "      <td>0.098784</td>\n",
       "      <td>-0.576987</td>\n",
       "      <td>-0.071716</td>\n",
       "      <td>-1.162758</td>\n",
       "      <td>-1.202311</td>\n",
       "      <td>1.243062</td>\n",
       "      <td>0.415839</td>\n",
       "      <td>0.705867</td>\n",
       "      <td>0.256501</td>\n",
       "      <td>0.143707</td>\n",
       "      <td>0.044764</td>\n",
       "    </tr>\n",
       "    <tr>\n",
       "      <th>2</th>\n",
       "      <td>2.102395</td>\n",
       "      <td>-0.314829</td>\n",
       "      <td>-0.142608</td>\n",
       "      <td>-1.500994</td>\n",
       "      <td>0.393467</td>\n",
       "      <td>-1.168039</td>\n",
       "      <td>-0.957126</td>\n",
       "      <td>-0.050051</td>\n",
       "      <td>-2.258665</td>\n",
       "      <td>-4.119987</td>\n",
       "      <td>2.616449</td>\n",
       "      <td>2.144626</td>\n",
       "      <td>-0.817481</td>\n",
       "      <td>0.709963</td>\n",
       "      <td>0.006308</td>\n",
       "      <td>-6.853234</td>\n",
       "      <td>-0.638358</td>\n",
       "      <td>3.832073</td>\n",
       "      <td>-1.471396</td>\n",
       "      <td>0.779750</td>\n",
       "    </tr>\n",
       "    <tr>\n",
       "      <th>3</th>\n",
       "      <td>-1.344732</td>\n",
       "      <td>-0.862564</td>\n",
       "      <td>0.394401</td>\n",
       "      <td>2.629309</td>\n",
       "      <td>0.385399</td>\n",
       "      <td>0.180541</td>\n",
       "      <td>0.184609</td>\n",
       "      <td>-0.262123</td>\n",
       "      <td>-0.398353</td>\n",
       "      <td>-0.133644</td>\n",
       "      <td>-0.082728</td>\n",
       "      <td>-0.178512</td>\n",
       "      <td>-0.814537</td>\n",
       "      <td>0.480585</td>\n",
       "      <td>-0.624226</td>\n",
       "      <td>0.057645</td>\n",
       "      <td>-0.228788</td>\n",
       "      <td>-0.283016</td>\n",
       "      <td>-0.463227</td>\n",
       "      <td>0.256527</td>\n",
       "    </tr>\n",
       "    <tr>\n",
       "      <th>4</th>\n",
       "      <td>-1.331534</td>\n",
       "      <td>-0.391731</td>\n",
       "      <td>0.265949</td>\n",
       "      <td>1.533546</td>\n",
       "      <td>0.515138</td>\n",
       "      <td>-0.491628</td>\n",
       "      <td>-0.037008</td>\n",
       "      <td>-0.045821</td>\n",
       "      <td>0.238445</td>\n",
       "      <td>0.066736</td>\n",
       "      <td>-0.611578</td>\n",
       "      <td>0.306727</td>\n",
       "      <td>0.918899</td>\n",
       "      <td>-0.623288</td>\n",
       "      <td>-0.599389</td>\n",
       "      <td>-0.082999</td>\n",
       "      <td>-0.140177</td>\n",
       "      <td>-0.316112</td>\n",
       "      <td>0.501401</td>\n",
       "      <td>-0.093167</td>\n",
       "    </tr>\n",
       "  </tbody>\n",
       "</table>\n",
       "</div>"
      ],
      "text/plain": [
       "         0         1         2         3         4         5         6   \\\n",
       "0 -0.477466 -0.113635 -0.132230 -0.177395 -0.390613  0.107461 -0.170853   \n",
       "1 -1.115007 -0.104242 -0.002061 -0.744386 -0.901085  1.296570  0.791967   \n",
       "2  2.102395 -0.314829 -0.142608 -1.500994  0.393467 -1.168039 -0.957126   \n",
       "3 -1.344732 -0.862564  0.394401  2.629309  0.385399  0.180541  0.184609   \n",
       "4 -1.331534 -0.391731  0.265949  1.533546  0.515138 -0.491628 -0.037008   \n",
       "\n",
       "         7         8         9         10        11        12        13  \\\n",
       "0  0.260482  0.580255  0.087333  0.126106  0.161740 -1.100190  0.846609   \n",
       "1 -0.892066 -0.328284  0.098784 -0.576987 -0.071716 -1.162758 -1.202311   \n",
       "2 -0.050051 -2.258665 -4.119987  2.616449  2.144626 -0.817481  0.709963   \n",
       "3 -0.262123 -0.398353 -0.133644 -0.082728 -0.178512 -0.814537  0.480585   \n",
       "4 -0.045821  0.238445  0.066736 -0.611578  0.306727  0.918899 -0.623288   \n",
       "\n",
       "         14        15        16        17        18        19  \n",
       "0 -1.061766  0.013100  0.328598 -0.135798  0.087911 -0.031623  \n",
       "1  1.243062  0.415839  0.705867  0.256501  0.143707  0.044764  \n",
       "2  0.006308 -6.853234 -0.638358  3.832073 -1.471396  0.779750  \n",
       "3 -0.624226  0.057645 -0.228788 -0.283016 -0.463227  0.256527  \n",
       "4 -0.599389 -0.082999 -0.140177 -0.316112  0.501401 -0.093167  "
      ]
     },
     "execution_count": 8,
     "metadata": {},
     "output_type": "execute_result"
    }
   ],
   "source": [
    "x_train_pca = pca.transform(X_train_scaled)\n",
    "x_train_pca = pd.DataFrame(x_train_pca).iloc[:,0:20]\n",
    "x_train_pca.head()"
   ]
  },
  {
   "cell_type": "code",
   "execution_count": 9,
   "metadata": {},
   "outputs": [
    {
     "data": {
      "text/html": [
       "<div>\n",
       "<style scoped>\n",
       "    .dataframe tbody tr th:only-of-type {\n",
       "        vertical-align: middle;\n",
       "    }\n",
       "\n",
       "    .dataframe tbody tr th {\n",
       "        vertical-align: top;\n",
       "    }\n",
       "\n",
       "    .dataframe thead th {\n",
       "        text-align: right;\n",
       "    }\n",
       "</style>\n",
       "<table border=\"1\" class=\"dataframe\">\n",
       "  <thead>\n",
       "    <tr style=\"text-align: right;\">\n",
       "      <th></th>\n",
       "      <th>0</th>\n",
       "      <th>1</th>\n",
       "      <th>2</th>\n",
       "      <th>3</th>\n",
       "      <th>4</th>\n",
       "      <th>5</th>\n",
       "      <th>6</th>\n",
       "      <th>7</th>\n",
       "      <th>8</th>\n",
       "      <th>9</th>\n",
       "      <th>10</th>\n",
       "      <th>11</th>\n",
       "      <th>12</th>\n",
       "      <th>13</th>\n",
       "      <th>14</th>\n",
       "      <th>15</th>\n",
       "      <th>16</th>\n",
       "      <th>17</th>\n",
       "      <th>18</th>\n",
       "      <th>19</th>\n",
       "    </tr>\n",
       "  </thead>\n",
       "  <tbody>\n",
       "    <tr>\n",
       "      <th>0</th>\n",
       "      <td>1.394026</td>\n",
       "      <td>-1.562226</td>\n",
       "      <td>0.122509</td>\n",
       "      <td>3.116481</td>\n",
       "      <td>0.254897</td>\n",
       "      <td>0.661173</td>\n",
       "      <td>0.170651</td>\n",
       "      <td>-0.829695</td>\n",
       "      <td>-0.547632</td>\n",
       "      <td>-0.478885</td>\n",
       "      <td>-0.309307</td>\n",
       "      <td>1.552432</td>\n",
       "      <td>1.086833</td>\n",
       "      <td>-0.004089</td>\n",
       "      <td>-0.630281</td>\n",
       "      <td>-1.148623</td>\n",
       "      <td>-0.981358</td>\n",
       "      <td>-1.759148</td>\n",
       "      <td>0.107422</td>\n",
       "      <td>-0.085587</td>\n",
       "    </tr>\n",
       "    <tr>\n",
       "      <th>1</th>\n",
       "      <td>0.010396</td>\n",
       "      <td>-1.023877</td>\n",
       "      <td>0.197925</td>\n",
       "      <td>0.796345</td>\n",
       "      <td>-0.024470</td>\n",
       "      <td>0.331308</td>\n",
       "      <td>0.881579</td>\n",
       "      <td>-0.051668</td>\n",
       "      <td>0.598161</td>\n",
       "      <td>0.277865</td>\n",
       "      <td>-0.214896</td>\n",
       "      <td>0.865832</td>\n",
       "      <td>0.835682</td>\n",
       "      <td>0.441639</td>\n",
       "      <td>-1.088670</td>\n",
       "      <td>0.094654</td>\n",
       "      <td>-0.439847</td>\n",
       "      <td>0.137613</td>\n",
       "      <td>0.021465</td>\n",
       "      <td>0.312902</td>\n",
       "    </tr>\n",
       "    <tr>\n",
       "      <th>2</th>\n",
       "      <td>-1.345634</td>\n",
       "      <td>-0.468935</td>\n",
       "      <td>0.284089</td>\n",
       "      <td>0.559869</td>\n",
       "      <td>-0.874656</td>\n",
       "      <td>1.252510</td>\n",
       "      <td>0.968663</td>\n",
       "      <td>0.030403</td>\n",
       "      <td>0.269285</td>\n",
       "      <td>0.332312</td>\n",
       "      <td>-0.894414</td>\n",
       "      <td>0.777898</td>\n",
       "      <td>1.350506</td>\n",
       "      <td>-0.937915</td>\n",
       "      <td>0.125259</td>\n",
       "      <td>0.499647</td>\n",
       "      <td>-0.443448</td>\n",
       "      <td>-0.320411</td>\n",
       "      <td>-0.761890</td>\n",
       "      <td>0.405080</td>\n",
       "    </tr>\n",
       "    <tr>\n",
       "      <th>3</th>\n",
       "      <td>-1.684527</td>\n",
       "      <td>0.632192</td>\n",
       "      <td>0.016989</td>\n",
       "      <td>-3.301741</td>\n",
       "      <td>2.629638</td>\n",
       "      <td>-2.326084</td>\n",
       "      <td>-0.071581</td>\n",
       "      <td>-3.144477</td>\n",
       "      <td>-0.792834</td>\n",
       "      <td>-0.490194</td>\n",
       "      <td>-0.043616</td>\n",
       "      <td>-0.679773</td>\n",
       "      <td>-1.009972</td>\n",
       "      <td>1.041992</td>\n",
       "      <td>0.680080</td>\n",
       "      <td>0.101583</td>\n",
       "      <td>-0.040985</td>\n",
       "      <td>-0.478407</td>\n",
       "      <td>1.705535</td>\n",
       "      <td>-0.152507</td>\n",
       "    </tr>\n",
       "    <tr>\n",
       "      <th>4</th>\n",
       "      <td>-1.320593</td>\n",
       "      <td>0.953666</td>\n",
       "      <td>0.004143</td>\n",
       "      <td>-2.328014</td>\n",
       "      <td>-1.463448</td>\n",
       "      <td>1.398968</td>\n",
       "      <td>0.197599</td>\n",
       "      <td>-0.069325</td>\n",
       "      <td>-2.048986</td>\n",
       "      <td>-0.060044</td>\n",
       "      <td>-0.780084</td>\n",
       "      <td>-0.816065</td>\n",
       "      <td>0.610511</td>\n",
       "      <td>0.291288</td>\n",
       "      <td>0.178705</td>\n",
       "      <td>0.045601</td>\n",
       "      <td>1.020077</td>\n",
       "      <td>0.297021</td>\n",
       "      <td>0.104290</td>\n",
       "      <td>0.095604</td>\n",
       "    </tr>\n",
       "  </tbody>\n",
       "</table>\n",
       "</div>"
      ],
      "text/plain": [
       "         0         1         2         3         4         5         6   \\\n",
       "0  1.394026 -1.562226  0.122509  3.116481  0.254897  0.661173  0.170651   \n",
       "1  0.010396 -1.023877  0.197925  0.796345 -0.024470  0.331308  0.881579   \n",
       "2 -1.345634 -0.468935  0.284089  0.559869 -0.874656  1.252510  0.968663   \n",
       "3 -1.684527  0.632192  0.016989 -3.301741  2.629638 -2.326084 -0.071581   \n",
       "4 -1.320593  0.953666  0.004143 -2.328014 -1.463448  1.398968  0.197599   \n",
       "\n",
       "         7         8         9         10        11        12        13  \\\n",
       "0 -0.829695 -0.547632 -0.478885 -0.309307  1.552432  1.086833 -0.004089   \n",
       "1 -0.051668  0.598161  0.277865 -0.214896  0.865832  0.835682  0.441639   \n",
       "2  0.030403  0.269285  0.332312 -0.894414  0.777898  1.350506 -0.937915   \n",
       "3 -3.144477 -0.792834 -0.490194 -0.043616 -0.679773 -1.009972  1.041992   \n",
       "4 -0.069325 -2.048986 -0.060044 -0.780084 -0.816065  0.610511  0.291288   \n",
       "\n",
       "         14        15        16        17        18        19  \n",
       "0 -0.630281 -1.148623 -0.981358 -1.759148  0.107422 -0.085587  \n",
       "1 -1.088670  0.094654 -0.439847  0.137613  0.021465  0.312902  \n",
       "2  0.125259  0.499647 -0.443448 -0.320411 -0.761890  0.405080  \n",
       "3  0.680080  0.101583 -0.040985 -0.478407  1.705535 -0.152507  \n",
       "4  0.178705  0.045601  1.020077  0.297021  0.104290  0.095604  "
      ]
     },
     "execution_count": 9,
     "metadata": {},
     "output_type": "execute_result"
    }
   ],
   "source": [
    "x_test_pca = pca.transform(X_test_scaled)\n",
    "x_test_pca = pd.DataFrame(x_test_pca).iloc[:,0:20]\n",
    "x_test_pca.head()"
   ]
  },
  {
   "cell_type": "markdown",
   "metadata": {},
   "source": [
    "# Train the Model\n"
   ]
  },
  {
   "cell_type": "code",
   "execution_count": 10,
   "metadata": {},
   "outputs": [
    {
     "data": {
      "text/plain": [
       "SVC(kernel='linear')"
      ]
     },
     "execution_count": 10,
     "metadata": {},
     "output_type": "execute_result"
    }
   ],
   "source": [
    "from sklearn.svm import SVC\n",
    "\n",
    "SVM_pca = SVC(kernel='linear')\n",
    "SVM_pca.fit(x_train_pca, np.ravel(y_train,order='C'))"
   ]
  },
  {
   "cell_type": "markdown",
   "metadata": {},
   "source": [
    "# Performance Matrix"
   ]
  },
  {
   "cell_type": "code",
   "execution_count": 11,
   "metadata": {},
   "outputs": [
    {
     "name": "stdout",
     "output_type": "stream",
     "text": [
      "Training Data Score: 0.8861338928094602\n",
      "Test Data Score: 0.8781464530892449\n"
     ]
    }
   ],
   "source": [
    "print(f\"Training Data Score: {SVM_pca.score(x_train_pca, y_train)}\")\n",
    "print(f\"Test Data Score: {SVM_pca.score(x_test_pca, y_test)}\")\n"
   ]
  },
  {
   "cell_type": "code",
   "execution_count": 12,
   "metadata": {},
   "outputs": [
    {
     "name": "stdout",
     "output_type": "stream",
     "text": [
      "                precision    recall  f1-score   support\n",
      "\n",
      "     CANDIDATE       0.81      0.67      0.73       411\n",
      "     CONFIRMED       0.76      0.85      0.80       484\n",
      "FALSE POSITIVE       0.98      0.99      0.99       853\n",
      "\n",
      "      accuracy                           0.88      1748\n",
      "     macro avg       0.85      0.84      0.84      1748\n",
      "  weighted avg       0.88      0.88      0.88      1748\n",
      "\n"
     ]
    }
   ],
   "source": [
    "from sklearn.metrics import classification_report\n",
    "\n",
    "# Predicted outcomes\n",
    "predictions = SVM_pca.predict(x_test_pca)\n",
    "print(classification_report(y_test,predictions))"
   ]
  },
  {
   "cell_type": "markdown",
   "metadata": {},
   "source": [
    "# Hyperparameter Tuning\n",
    "\n",
    "Use `GridSearchCV` to tune the model's parameters"
   ]
  },
  {
   "cell_type": "code",
   "execution_count": 13,
   "metadata": {},
   "outputs": [],
   "source": [
    "# Create the GridSearchCV model\n",
    "from sklearn.model_selection import GridSearchCV\n",
    "param_grid = {'C': [1,5,10,50],\n",
    "            'gamma': [0.0001, 0.0005, 0.001, 0.005]}\n",
    "grid = GridSearchCV(SVM_pca, param_grid, verbose=3)"
   ]
  },
  {
   "cell_type": "code",
   "execution_count": 14,
   "metadata": {},
   "outputs": [
    {
     "name": "stdout",
     "output_type": "stream",
     "text": [
      "Fitting 5 folds for each of 16 candidates, totalling 80 fits\n",
      "[CV 1/5] END .................C=1, gamma=0.0001;, score=0.900 total time=   0.7s\n",
      "[CV 2/5] END .................C=1, gamma=0.0001;, score=0.886 total time=   0.8s\n",
      "[CV 3/5] END .................C=1, gamma=0.0001;, score=0.883 total time=   0.9s\n",
      "[CV 4/5] END .................C=1, gamma=0.0001;, score=0.860 total time=   0.8s\n",
      "[CV 5/5] END .................C=1, gamma=0.0001;, score=0.880 total time=   1.0s\n",
      "[CV 1/5] END .................C=1, gamma=0.0005;, score=0.900 total time=   0.9s\n",
      "[CV 2/5] END .................C=1, gamma=0.0005;, score=0.886 total time=   0.8s\n",
      "[CV 3/5] END .................C=1, gamma=0.0005;, score=0.883 total time=   1.0s\n",
      "[CV 4/5] END .................C=1, gamma=0.0005;, score=0.860 total time=   0.9s\n",
      "[CV 5/5] END .................C=1, gamma=0.0005;, score=0.880 total time=   1.3s\n",
      "[CV 1/5] END ..................C=1, gamma=0.001;, score=0.900 total time=   1.3s\n",
      "[CV 2/5] END ..................C=1, gamma=0.001;, score=0.886 total time=   0.7s\n",
      "[CV 3/5] END ..................C=1, gamma=0.001;, score=0.883 total time=   1.0s\n",
      "[CV 4/5] END ..................C=1, gamma=0.001;, score=0.860 total time=   0.8s\n",
      "[CV 5/5] END ..................C=1, gamma=0.001;, score=0.880 total time=   0.9s\n",
      "[CV 1/5] END ..................C=1, gamma=0.005;, score=0.900 total time=   0.8s\n",
      "[CV 2/5] END ..................C=1, gamma=0.005;, score=0.886 total time=   0.8s\n",
      "[CV 3/5] END ..................C=1, gamma=0.005;, score=0.883 total time=   1.0s\n",
      "[CV 4/5] END ..................C=1, gamma=0.005;, score=0.860 total time=   0.7s\n",
      "[CV 5/5] END ..................C=1, gamma=0.005;, score=0.880 total time=   1.0s\n",
      "[CV 1/5] END .................C=5, gamma=0.0001;, score=0.900 total time=   1.6s\n",
      "[CV 2/5] END .................C=5, gamma=0.0001;, score=0.888 total time=   1.7s\n",
      "[CV 3/5] END .................C=5, gamma=0.0001;, score=0.887 total time=   1.6s\n",
      "[CV 4/5] END .................C=5, gamma=0.0001;, score=0.865 total time=   1.3s\n",
      "[CV 5/5] END .................C=5, gamma=0.0001;, score=0.881 total time=   2.1s\n",
      "[CV 1/5] END .................C=5, gamma=0.0005;, score=0.900 total time=   2.0s\n",
      "[CV 2/5] END .................C=5, gamma=0.0005;, score=0.888 total time=   2.1s\n",
      "[CV 3/5] END .................C=5, gamma=0.0005;, score=0.887 total time=   1.7s\n",
      "[CV 4/5] END .................C=5, gamma=0.0005;, score=0.865 total time=   1.7s\n",
      "[CV 5/5] END .................C=5, gamma=0.0005;, score=0.881 total time=   2.5s\n",
      "[CV 1/5] END ..................C=5, gamma=0.001;, score=0.900 total time=   2.0s\n",
      "[CV 2/5] END ..................C=5, gamma=0.001;, score=0.888 total time=   2.0s\n",
      "[CV 3/5] END ..................C=5, gamma=0.001;, score=0.887 total time=   1.4s\n",
      "[CV 4/5] END ..................C=5, gamma=0.001;, score=0.865 total time=   1.5s\n",
      "[CV 5/5] END ..................C=5, gamma=0.001;, score=0.881 total time=   2.0s\n",
      "[CV 1/5] END ..................C=5, gamma=0.005;, score=0.900 total time=   1.5s\n",
      "[CV 2/5] END ..................C=5, gamma=0.005;, score=0.888 total time=   1.8s\n",
      "[CV 3/5] END ..................C=5, gamma=0.005;, score=0.887 total time=   1.5s\n",
      "[CV 4/5] END ..................C=5, gamma=0.005;, score=0.865 total time=   1.4s\n",
      "[CV 5/5] END ..................C=5, gamma=0.005;, score=0.881 total time=   2.1s\n",
      "[CV 1/5] END ................C=10, gamma=0.0001;, score=0.902 total time=   2.0s\n",
      "[CV 2/5] END ................C=10, gamma=0.0001;, score=0.886 total time=   2.1s\n",
      "[CV 3/5] END ................C=10, gamma=0.0001;, score=0.889 total time=   2.5s\n",
      "[CV 4/5] END ................C=10, gamma=0.0001;, score=0.869 total time=   2.0s\n",
      "[CV 5/5] END ................C=10, gamma=0.0001;, score=0.885 total time=   2.6s\n",
      "[CV 1/5] END ................C=10, gamma=0.0005;, score=0.902 total time=   2.1s\n",
      "[CV 2/5] END ................C=10, gamma=0.0005;, score=0.886 total time=   2.2s\n",
      "[CV 3/5] END ................C=10, gamma=0.0005;, score=0.889 total time=   2.4s\n",
      "[CV 4/5] END ................C=10, gamma=0.0005;, score=0.869 total time=   1.9s\n",
      "[CV 5/5] END ................C=10, gamma=0.0005;, score=0.885 total time=   2.7s\n",
      "[CV 1/5] END .................C=10, gamma=0.001;, score=0.902 total time=   2.1s\n",
      "[CV 2/5] END .................C=10, gamma=0.001;, score=0.886 total time=   2.1s\n",
      "[CV 3/5] END .................C=10, gamma=0.001;, score=0.889 total time=   2.4s\n",
      "[CV 4/5] END .................C=10, gamma=0.001;, score=0.869 total time=   2.0s\n",
      "[CV 5/5] END .................C=10, gamma=0.001;, score=0.885 total time=   2.6s\n",
      "[CV 1/5] END .................C=10, gamma=0.005;, score=0.902 total time=   2.0s\n",
      "[CV 2/5] END .................C=10, gamma=0.005;, score=0.886 total time=   2.1s\n",
      "[CV 3/5] END .................C=10, gamma=0.005;, score=0.889 total time=   2.4s\n",
      "[CV 4/5] END .................C=10, gamma=0.005;, score=0.869 total time=   1.9s\n",
      "[CV 5/5] END .................C=10, gamma=0.005;, score=0.885 total time=   2.6s\n",
      "[CV 1/5] END ................C=50, gamma=0.0001;, score=0.902 total time=   7.1s\n",
      "[CV 2/5] END ................C=50, gamma=0.0001;, score=0.887 total time=   8.6s\n",
      "[CV 3/5] END ................C=50, gamma=0.0001;, score=0.887 total time=   7.0s\n",
      "[CV 4/5] END ................C=50, gamma=0.0001;, score=0.865 total time=   5.7s\n",
      "[CV 5/5] END ................C=50, gamma=0.0001;, score=0.887 total time=   7.4s\n",
      "[CV 1/5] END ................C=50, gamma=0.0005;, score=0.902 total time=   6.4s\n",
      "[CV 2/5] END ................C=50, gamma=0.0005;, score=0.887 total time=   8.3s\n",
      "[CV 3/5] END ................C=50, gamma=0.0005;, score=0.887 total time=   6.7s\n",
      "[CV 4/5] END ................C=50, gamma=0.0005;, score=0.865 total time=   5.7s\n",
      "[CV 5/5] END ................C=50, gamma=0.0005;, score=0.887 total time=   8.1s\n",
      "[CV 1/5] END .................C=50, gamma=0.001;, score=0.902 total time=   6.7s\n",
      "[CV 2/5] END .................C=50, gamma=0.001;, score=0.887 total time=   8.0s\n",
      "[CV 3/5] END .................C=50, gamma=0.001;, score=0.887 total time=   6.9s\n",
      "[CV 4/5] END .................C=50, gamma=0.001;, score=0.865 total time=   5.9s\n",
      "[CV 5/5] END .................C=50, gamma=0.001;, score=0.887 total time=   7.9s\n",
      "[CV 1/5] END .................C=50, gamma=0.005;, score=0.902 total time=   6.7s\n",
      "[CV 2/5] END .................C=50, gamma=0.005;, score=0.887 total time=   8.0s\n",
      "[CV 3/5] END .................C=50, gamma=0.005;, score=0.887 total time=   7.1s\n",
      "[CV 4/5] END .................C=50, gamma=0.005;, score=0.865 total time=   5.9s\n",
      "[CV 5/5] END .................C=50, gamma=0.005;, score=0.887 total time=   8.1s\n"
     ]
    },
    {
     "data": {
      "text/plain": [
       "GridSearchCV(estimator=SVC(kernel='linear'),\n",
       "             param_grid={'C': [1, 5, 10, 50],\n",
       "                         'gamma': [0.0001, 0.0005, 0.001, 0.005]},\n",
       "             verbose=3)"
      ]
     },
     "execution_count": 14,
     "metadata": {},
     "output_type": "execute_result"
    }
   ],
   "source": [
    "# Train the model with GridSearch\n",
    "grid.fit(x_train_pca, np.ravel(y_train,order='C'))"
   ]
  },
  {
   "cell_type": "code",
   "execution_count": 15,
   "metadata": {},
   "outputs": [
    {
     "name": "stdout",
     "output_type": "stream",
     "text": [
      "{'C': 10, 'gamma': 0.0001}\n",
      "0.8863212146791929\n"
     ]
    }
   ],
   "source": [
    "print(grid.best_params_)\n",
    "print(grid.best_score_)"
   ]
  },
  {
   "cell_type": "code",
   "execution_count": 16,
   "metadata": {},
   "outputs": [
    {
     "data": {
      "text/plain": [
       "SVC(C=10, gamma=0.0001, kernel='linear')"
      ]
     },
     "execution_count": 16,
     "metadata": {},
     "output_type": "execute_result"
    }
   ],
   "source": [
    "SVM_pca_gridsearch = SVC(kernel='linear',C=10,gamma=0.0001)\n",
    "SVM_pca_gridsearch.fit(x_train_pca, np.ravel(y_train,order='C'))"
   ]
  },
  {
   "cell_type": "markdown",
   "metadata": {},
   "source": [
    "# Performance Matrix"
   ]
  },
  {
   "cell_type": "code",
   "execution_count": 17,
   "metadata": {},
   "outputs": [
    {
     "name": "stdout",
     "output_type": "stream",
     "text": [
      "Training Data Score: 0.8899485027655922\n",
      "Testing Data Score: 0.8838672768878718\n"
     ]
    }
   ],
   "source": [
    "print(f\"Training Data Score: {SVM_pca_gridsearch.score(x_train_pca, y_train)}\")\n",
    "print(f\"Testing Data Score: {SVM_pca_gridsearch.score(x_test_pca, y_test)}\")"
   ]
  },
  {
   "cell_type": "code",
   "execution_count": 41,
   "metadata": {},
   "outputs": [
    {
     "name": "stdout",
     "output_type": "stream",
     "text": [
      "                precision    recall  f1-score      support\n",
      "CANDIDATE        0.817143  0.695864  0.751643   411.000000\n",
      "CONFIRMED        0.777778  0.853306  0.813793   484.000000\n",
      "FALSE POSITIVE   0.975779  0.991794  0.983721   853.000000\n",
      "accuracy         0.883867  0.883867  0.883867     0.883867\n",
      "macro avg        0.856900  0.846988  0.849719  1748.000000\n",
      "weighted avg     0.883655  0.883867  0.882102  1748.000000\n",
      "Stored 'report_SVM_standardscale_df' (DataFrame)\n"
     ]
    },
    {
     "data": {
      "image/png": "[encoded data removed]",
      "text/plain": [
       "<Figure size 432x288 with 2 Axes>"
      ]
     },
     "metadata": {
      "needs_background": "light"
     },
     "output_type": "display_data"
    }
   ],
   "source": [
    "from sklearn.metrics import classification_report,confusion_matrix\n",
    "\n",
    "# Predicted outcomes\n",
    "predictions = SVM_pca_gridsearch.predict(x_test_pca)\n",
    "target = ['CANDIDATE','CONFIRMED','FALSE POSITIVE']\n",
    "\n",
    "ax= plt.subplot()\n",
    "cm = (confusion_matrix(y_test,predictions))\n",
    "sns.heatmap(cm, annot=True, ax = ax,cmap='Blues',fmt='g')\n",
    "\n",
    "# labels, title and ticks\n",
    "ax.set_title('SVM (standard scale)')\n",
    "ax.xaxis.set_ticklabels(target)\n",
    "ax.yaxis.set_ticklabels(target)\n",
    "\n",
    "\n",
    "report_SVM_standardscale = classification_report(y_test,predictions, output_dict=True)\n",
    "report_SVM_standardscale_df = pd.DataFrame(report_SVM_standardscale).transpose()\n",
    "print(report_SVM_standardscale_df)\n",
    "%store report_SVM_standardscale_df "
   ]
  },
  {
   "cell_type": "code",
   "execution_count": 19,
   "metadata": {},
   "outputs": [
    {
     "data": {
      "text/plain": [
       "['SVM_pca_gridsearch_standardscaler.sav']"
      ]
     },
     "execution_count": 19,
     "metadata": {},
     "output_type": "execute_result"
    }
   ],
   "source": [
    "# save your model by updating \"your_name\" with your name\n",
    "# and \"your_model\" with your model variable\n",
    "# be sure to turn this in to BCS\n",
    "# if joblib fails to import, try running the command to install in terminal/git-bash\n",
    "import joblib\n",
    "filename = 'SVM_pca_gridsearch_standardscaler.sav'\n",
    "joblib.dump(SVM_pca_gridsearch, filename)"
   ]
  }
 ],
 "metadata": {
  "kernelspec": {
   "display_name": "Python 3.6.13 ('PythonAdv2')",
   "language": "python",
   "name": "python3"
  },
  "language_info": {
   "codemirror_mode": {
    "name": "ipython",
    "version": 3
   },
   "file_extension": ".py",
   "mimetype": "text/x-python",
   "name": "python",
   "nbconvert_exporter": "python",
   "pygments_lexer": "ipython3",
   "version": "3.6.13"
  },
  "orig_nbformat": 4,
  "vscode": {
   "interpreter": {
    "hash": "936b1316dbb2a310ab1a1e05737c1da9bef71d5eedff621d143e0924a05f4e3b"
   }
  }
 },
 "nbformat": 4,
 "nbformat_minor": 2
}
